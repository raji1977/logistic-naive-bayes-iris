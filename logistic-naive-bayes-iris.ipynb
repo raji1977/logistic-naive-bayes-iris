{
  "nbformat": 4,
  "nbformat_minor": 0,
  "metadata": {
    "colab": {
      "provenance": []
    },
    "kernelspec": {
      "name": "python3",
      "display_name": "Python 3"
    },
    "language_info": {
      "name": "python"
    }
  },
  "cells": [
    {
      "cell_type": "code",
      "execution_count": null,
      "metadata": {
        "colab": {
          "base_uri": "https://localhost:8080/"
        },
        "id": "YaVTUZSEobyq",
        "outputId": "bf137020-1f5f-470e-a5cd-bb69459b957a"
      },
      "outputs": [
        {
          "output_type": "stream",
          "name": "stdout",
          "text": [
            "sample of dataset:\n",
            "   sepal length (cm)  sepal width (cm)  petal length (cm)  petal width (cm)  \\\n",
            "0                5.1               3.5                1.4               0.2   \n",
            "1                4.9               3.0                1.4               0.2   \n",
            "2                4.7               3.2                1.3               0.2   \n",
            "3                4.6               3.1                1.5               0.2   \n",
            "4                5.0               3.6                1.4               0.2   \n",
            "\n",
            "   target  \n",
            "0       0  \n",
            "1       0  \n",
            "2       0  \n",
            "3       0  \n",
            "4       0  \n",
            "\n",
            "Logistic Regression Evaluation:\n",
            "Accuracy; 1.0\n",
            "Confusion /matrix:\n",
            " [[19  0  0]\n",
            " [ 0 13  0]\n",
            " [ 0  0 13]]\n",
            "Classification Report:\n",
            "               precision    recall  f1-score   support\n",
            "\n",
            "           0       1.00      1.00      1.00        19\n",
            "           1       1.00      1.00      1.00        13\n",
            "           2       1.00      1.00      1.00        13\n",
            "\n",
            "    accuracy                           1.00        45\n",
            "   macro avg       1.00      1.00      1.00        45\n",
            "weighted avg       1.00      1.00      1.00        45\n",
            "\n",
            "\n",
            "Naive Bayes Evaluation:\n",
            "Accuracy; 0.9777777777777777\n",
            "Confusion /matrix:\n",
            " [[19  0  0]\n",
            " [ 0 12  1]\n",
            " [ 0  0 13]]\n",
            "Classification Report:\n",
            "               precision    recall  f1-score   support\n",
            "\n",
            "           0       1.00      1.00      1.00        19\n",
            "           1       1.00      0.92      0.96        13\n",
            "           2       0.93      1.00      0.96        13\n",
            "\n",
            "    accuracy                           0.98        45\n",
            "   macro avg       0.98      0.97      0.97        45\n",
            "weighted avg       0.98      0.98      0.98        45\n",
            "\n"
          ]
        }
      ],
      "source": [
        "import numpy as np\n",
        "import pandas as pd\n",
        "from sklearn.datasets import load_iris\n",
        "from sklearn.model_selection import train_test_split\n",
        "from sklearn.linear_model import LogisticRegression\n",
        "from sklearn.naive_bayes import GaussianNB\n",
        "from sklearn.metrics import accuracy_score,confusion_matrix,classification_report\n",
        "iris=load_iris()\n",
        "x=iris.data\n",
        "y=iris.target\n",
        "df=pd.DataFrame(x,columns=iris.feature_names)\n",
        "df['target']=y\n",
        "print(\"sample of dataset:\")\n",
        "print(df.head())\n",
        "x_train,x_test,y_train,y_test=train_test_split(x,y,test_size=0.3,random_state=42)\n",
        "log_model=LogisticRegression(max_iter=200)\n",
        "log_model.fit(x_train,y_train)\n",
        "log_pred=log_model.predict(x_test)\n",
        "nb_model=GaussianNB()\n",
        "nb_model.fit(x_train,y_train)\n",
        "nb_pred=nb_model.predict(x_test)\n",
        "def evaluate_model(name,y_true,y_pred):\n",
        "  print(f\"\\n{name} Evaluation:\")\n",
        "  print(\"Accuracy;\",accuracy_score(y_true,y_pred))\n",
        "  print(\"Confusion /matrix:\\n\",confusion_matrix(y_true,y_pred))\n",
        "  print(\"Classification Report:\\n\",classification_report(y_true,y_pred))\n",
        "evaluate_model(\"Logistic Regression\",y_test,log_pred)\n",
        "evaluate_model(\"Naive Bayes\",y_test,nb_pred)\n",
        "\n"
      ]
    }
  ]
}